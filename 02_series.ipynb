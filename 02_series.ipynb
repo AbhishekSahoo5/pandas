{
 "cells": [
  {
   "cell_type": "markdown",
   "id": "0ff92f0f-1f43-4968-a0a4-04c0ee25966a",
   "metadata": {},
   "source": [
    "\n",
    "Series\n",
    "---------\n",
    "It defined as a 1D array that is capable of storing various data types."
   ]
  },
  {
   "cell_type": "code",
   "execution_count": 1,
   "id": "a1f300e8-739f-46a4-8134-951301e3d548",
   "metadata": {},
   "outputs": [],
   "source": [
    "import pandas as pd"
   ]
  },
  {
   "cell_type": "code",
   "execution_count": 4,
   "id": "8c47a70a-6693-4b7e-8286-3165a9b4f655",
   "metadata": {},
   "outputs": [
    {
     "name": "stdout",
     "output_type": "stream",
     "text": [
      "0    3\n",
      "1    4\n",
      "2    5\n",
      "3    6\n",
      "4    7\n",
      "5    8\n",
      "dtype: int64\n",
      "<class 'pandas.core.series.Series'>\n"
     ]
    }
   ],
   "source": [
    "x=[3,4,5,6,7,8]\n",
    "var=pd.Series(x)\n",
    "print(var)\n",
    "print(type(var))"
   ]
  },
  {
   "cell_type": "code",
   "execution_count": 5,
   "id": "45093ecf-2b1c-4825-9acf-7876e7ffde42",
   "metadata": {},
   "outputs": [
    {
     "name": "stdout",
     "output_type": "stream",
     "text": [
      "5\n"
     ]
    }
   ],
   "source": [
    "# To get a particular data\n",
    "\n",
    "print(var[2])"
   ]
  },
  {
   "cell_type": "code",
   "execution_count": 6,
   "id": "87553585-04c8-49d7-a4ed-78fd55fbf9b9",
   "metadata": {},
   "outputs": [
    {
     "name": "stdout",
     "output_type": "stream",
     "text": [
      "a    3\n",
      "d    4\n",
      "e    5\n",
      "f    6\n",
      "u    7\n",
      "v    8\n",
      "dtype: int64\n",
      "<class 'pandas.core.series.Series'>\n"
     ]
    }
   ],
   "source": [
    "# to change the index no. \n",
    "\n",
    "x=[3,4,5,6,7,8]\n",
    "var=pd.Series(x,index=[\"a\",\"d\",\"e\",\"f\",\"u\",\"v\"])\n",
    "print(var)\n",
    "print(type(var))"
   ]
  },
  {
   "cell_type": "code",
   "execution_count": 8,
   "id": "3fe71815-d2de-4e23-9adb-a5c1da76c45b",
   "metadata": {},
   "outputs": [
    {
     "name": "stdout",
     "output_type": "stream",
     "text": [
      "a    3.0\n",
      "d    4.0\n",
      "e    5.0\n",
      "f    6.0\n",
      "u    7.0\n",
      "v    8.0\n",
      "dtype: float64\n",
      "<class 'pandas.core.series.Series'>\n"
     ]
    }
   ],
   "source": [
    "# to change the data type\n",
    "\n",
    "x=[3,4,5,6,7,8]\n",
    "var=pd.Series(x,index=[\"a\",\"d\",\"e\",\"f\",\"u\",\"v\"],dtype=\"float\")\n",
    "print(var)\n",
    "print(type(var))"
   ]
  },
  {
   "cell_type": "code",
   "execution_count": 9,
   "id": "ccdba833-3a35-427b-b8f7-fa97d6b52366",
   "metadata": {},
   "outputs": [
    {
     "name": "stdout",
     "output_type": "stream",
     "text": [
      "a    3\n",
      "d    4\n",
      "e    5\n",
      "f    6\n",
      "u    7\n",
      "v    8\n",
      "Name: python, dtype: int64\n",
      "<class 'pandas.core.series.Series'>\n"
     ]
    }
   ],
   "source": [
    "# to set name\n",
    "\n",
    "x=[3,4,5,6,7,8]\n",
    "var=pd.Series(x,index=[\"a\",\"d\",\"e\",\"f\",\"u\",\"v\"],name=\"python\")\n",
    "print(var)\n",
    "print(type(var))"
   ]
  },
  {
   "cell_type": "code",
   "execution_count": 19,
   "id": "374248f5-5dec-4d0d-a1b3-b20a809cc001",
   "metadata": {},
   "outputs": [
    {
     "data": {
      "text/plain": [
       "name    [python, c, c++, java]\n",
       "po            [12, 13, 14, 15]\n",
       "rank              [1, 4, 3, 2]\n",
       "dtype: object"
      ]
     },
     "execution_count": 19,
     "metadata": {},
     "output_type": "execute_result"
    }
   ],
   "source": [
    "# Create series using Dictionary\n",
    "\n",
    "dic={\"name\":[\"python\",\"c\",\"c++\",\"java\"],\"po\":[12,13,14,15],\"rank\":[1,4,3,2]} \n",
    "var1=pd.Series(dic)\n",
    "var1"
   ]
  },
  {
   "cell_type": "code",
   "execution_count": 22,
   "id": "528a8f09-d1e0-4301-b994-941672952358",
   "metadata": {},
   "outputs": [
    {
     "data": {
      "text/plain": [
       "0    12\n",
       "dtype: int64"
      ]
     },
     "execution_count": 22,
     "metadata": {},
     "output_type": "execute_result"
    }
   ],
   "source": [
    "# series using single values\n",
    "\n",
    "s=pd.Series(12)\n",
    "s\n"
   ]
  },
  {
   "cell_type": "code",
   "execution_count": 23,
   "id": "61768a73-732e-44ab-b2f4-8d01ef3ea131",
   "metadata": {},
   "outputs": [
    {
     "data": {
      "text/plain": [
       "1    12\n",
       "2    12\n",
       "3    12\n",
       "4    12\n",
       "5    12\n",
       "dtype: int64"
      ]
     },
     "execution_count": 23,
     "metadata": {},
     "output_type": "execute_result"
    }
   ],
   "source": [
    "# series with same value\n",
    "\n",
    "s=pd.Series(12,index=[1,2,3,4,5])\n",
    "s"
   ]
  },
  {
   "cell_type": "code",
   "execution_count": 24,
   "id": "a962b50d-cddc-43d0-86f2-37028c92b936",
   "metadata": {},
   "outputs": [
    {
     "data": {
      "text/plain": [
       "1    24.0\n",
       "2    24.0\n",
       "3    24.0\n",
       "4    24.0\n",
       "5    24.0\n",
       "6     NaN\n",
       "7     NaN\n",
       "8     NaN\n",
       "dtype: float64"
      ]
     },
     "execution_count": 24,
     "metadata": {},
     "output_type": "execute_result"
    }
   ],
   "source": [
    "# Adding two series\n",
    "s1=pd.Series(12,index=[1,2,3,4,5,6,7,8])\n",
    "s2=pd.Series(12,index=[1,2,3,4,5])\n",
    "s1+s2\n",
    "\n",
    "# It also perform operation with missing data\n",
    "# There is no broadcast error in pandas"
   ]
  },
  {
   "cell_type": "code",
   "execution_count": null,
   "id": "862aab27-dae8-4f5a-bc73-8d2184d29bf0",
   "metadata": {},
   "outputs": [],
   "source": []
  }
 ],
 "metadata": {
  "kernelspec": {
   "display_name": "Python 3 (ipykernel)",
   "language": "python",
   "name": "python3"
  },
  "language_info": {
   "codemirror_mode": {
    "name": "ipython",
    "version": 3
   },
   "file_extension": ".py",
   "mimetype": "text/x-python",
   "name": "python",
   "nbconvert_exporter": "python",
   "pygments_lexer": "ipython3",
   "version": "3.11.5"
  }
 },
 "nbformat": 4,
 "nbformat_minor": 5
}
